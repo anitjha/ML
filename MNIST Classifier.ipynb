{
 "cells": [
  {
   "cell_type": "markdown",
   "metadata": {
    "deletable": false,
    "editable": false,
    "nbgrader": {
     "checksum": "833fa936266b502b8e694ef8b3889149",
     "grade": false,
     "grade_id": "cell-1ceafb7fd73785e8",
     "locked": true,
     "schema_version": 1,
     "solution": false
    }
   },
   "source": [
    "## About this Project\n",
    "\n",
    "In this project, you will implement a simple Convolutional Neural Network that can recognize digits using [PyTorch](https://pytorch.org/).\n",
    "\n",
    "<h3>Evaluation</h3>\n",
    "\n",
    "<p><strong>This project must be successfully completed and submitted in order to receive credit for this course. Your score on this project will be included in your final grade calculation.</strong><p>\n",
    "    \n",
    "<p>You are expected to write code where you see <em># YOUR CODE HERE</em> within the cells of this notebook. Not all cells will be graded; code input cells followed by cells marked with <em>#Autograder test cell</em> will be graded. Upon submitting your work, the code you write at these designated positions will be assessed using an \"autograder\" that will run all test cells to assess your code. You will receive feedback from the autograder that will identify any errors in your code. Use this feedback to improve your code if you need to resubmit. Be sure not to change the names of any provided functions, classes, or variables within the existing code cells, as this will interfere with the autograder. Also, remember to execute all code cells sequentially, not just those you’ve edited, to ensure your code runs properly.</p>\n",
    "    \n",
    "<p>You can resubmit your work as many times as necessary before the submission deadline. If you experience difficulty or have questions about this exercise, use the Q&A discussion board to engage with your peers or seek assistance from the instructor.<p>\n",
    "\n",
    "<p>Before starting your work, please review <a href=\"https://s3.amazonaws.com/ecornell/global/eCornellPlagiarismPolicy.pdf\">eCornell's policy regarding plagiarism</a> (the presentation of someone else's work as your own without source credit).</p>\n",
    "\n",
    "<h3>Submit Code for Autograder Feedback</h3>\n",
    "\n",
    "<p>Once you have completed your work on this notebook, you will submit your code for autograder review. Follow these steps:</p>\n",
    "\n",
    "<ol>\n",
    "  <li><strong>Save your notebook.</strong></li>\n",
    "  <li><strong>Mark as Completed —</strong> In the blue menu bar along the top of this code exercise window, you’ll see a menu item called <strong>Education</strong>. In the <strong>Education</strong> menu, click <strong>Mark as Completed</strong> to submit your code for autograder/instructor review. This process will take a moment and a progress bar will show you the status of your submission.</li>\n",
    "\t<li><strong>Review your results —</strong> Once your work is marked as complete, the results of the autograder will automatically be presented in a new tab within the code exercise window. You can click on the assessment name in this feedback window to see more details regarding specific feedback/errors in your code submission.</li>\n",
    "  <li><strong>Repeat, if necessary —</strong> The Jupyter notebook will always remain accessible in the first tabbed window of the exercise. To reattempt the work, you will first need to click <strong>Mark as Uncompleted</strong> in the <strong>Education</strong> menu and then proceed to make edits to the notebook. Once you are ready to resubmit, follow steps one through three. You can repeat this procedure as many times as necessary.</li>\n",
    "\n",
    "<p>You can also download a copy of this notebook in multiple formats using the <strong>Download as</strong> option in the <strong>File</strong> menu above.</p>"
   ]
  },
  {
   "cell_type": "markdown",
   "metadata": {
    "deletable": false,
    "editable": false,
    "nbgrader": {
     "checksum": "5c303d98db691922716cd01dffe44e44",
     "grade": false,
     "grade_id": "cell-081551474357d106",
     "locked": true,
     "schema_version": 1,
     "solution": false
    }
   },
   "source": [
    "<h2>Getting Started</h2>\n",
    "<h3>Python Initialization</h3> \n",
    "\n",
    "Please run the following code to initialize your Python kernel. You should be running a version of Python 3.x. </p>"
   ]
  },
  {
   "cell_type": "code",
   "execution_count": 1,
   "metadata": {},
   "outputs": [],
   "source": [
    "%load_ext autoreload"
   ]
  },
  {
   "cell_type": "code",
   "execution_count": 2,
   "metadata": {},
   "outputs": [],
   "source": [
    "%%capture\n",
    "from tqdm import tqdm_notebook as tqdm\n",
    "tqdm().pandas()"
   ]
  },
  {
   "cell_type": "code",
   "execution_count": 3,
   "metadata": {},
   "outputs": [
    {
     "name": "stdout",
     "output_type": "stream",
     "text": [
      "You're running python 3.6.8\n",
      "GPU is available: True\n"
     ]
    }
   ],
   "source": [
    "%autoreload 2\n",
    "# First off, import some packages\n",
    "import torch\n",
    "import torch.nn as nn\n",
    "from torch.nn import functional as F\n",
    "\n",
    "from torchvision import datasets, transforms\n",
    "import torchvision\n",
    "\n",
    "import matplotlib.pyplot as plt\n",
    "from helper import *\n",
    "\n",
    "import numpy as np\n",
    "%matplotlib inline\n",
    "print('You\\'re running python %s' % sys.version.split(' ')[0])\n",
    "\n",
    "# Seed the random number generator\n",
    "torch.manual_seed(1)\n",
    "torch.cuda.manual_seed(1)\n",
    "\n",
    "# Check whether you have a gpu\n",
    "# If you have a gpu, model training will be done on gpu\n",
    "# which is significantly faster than training on cpu\n",
    "gpu_available = torch.cuda.is_available()\n",
    "print (\"GPU is available:\",gpu_available)"
   ]
  },
  {
   "cell_type": "markdown",
   "metadata": {},
   "source": [
    "## Convolutional Neural Network\n",
    "\n",
    "### Part One: Loading the Dataset and Setting up Dataloader\n",
    "\n",
    "We will be using a well-known public dataset called [MNIST](https://en.wikipedia.org/wiki/MNIST_database), which consists of 60,000 training and 10,000 test black and white images of handwritten digits with labels. The MNIST data has been widely used in the Machine Learning research community to develop image processing models.\n",
    "\n",
    "Using Pytorch, we download the dataset locally, and wrap it up in a \"dataloader\". The models will iterate on batches in the dataloaders."
   ]
  },
  {
   "cell_type": "code",
   "execution_count": 4,
   "metadata": {},
   "outputs": [],
   "source": [
    "# Setup the training set and test set\n",
    "trainset = datasets.MNIST(root='.', train=True, download=True, transform=transforms.ToTensor())\n",
    "testset = datasets.MNIST(root='.', train=False, download=True, transform=transforms.ToTensor())\n",
    "\n",
    "# Setting up dataloader\n",
    "# A dataloader stacks small batches of images (of 512 images in our case) into Tensors for easier training and evaluation\n",
    "trainloader = torch.utils.data.DataLoader(trainset, shuffle=True, drop_last=True, batch_size=512, num_workers=2)\n",
    "testloader = torch.utils.data.DataLoader(testset, shuffle=True, drop_last=False, batch_size=512, num_workers=2)"
   ]
  },
  {
   "cell_type": "code",
   "execution_count": 5,
   "metadata": {},
   "outputs": [
    {
     "data": {
      "image/png": "[encoded data removed]",
      "text/plain": [
       "<Figure size 432x288 with 1 Axes>"
      ]
     },
     "metadata": {
      "needs_background": "light"
     },
     "output_type": "display_data"
    }
   ],
   "source": [
    "# Visualize the data\n",
    "# The following line gets us small batch of data\n",
    "# X is a tensor of size (512, 1, 28, 28) that contains a batch of images\n",
    "# y is a tensor of size (512) that contains the labels in X\n",
    "X, y = iter(trainloader).next()\n",
    "\n",
    "def visualize_data(X):\n",
    "    img_grid = torchvision.utils.make_grid(X[:5], padding=10)\n",
    "    img_grid = img_grid.numpy()\n",
    "    plt.imshow(np.transpose(img_grid, (1,2,0)), interpolation='nearest')\n",
    "    return\n",
    "\n",
    "visualize_data(X)"
   ]
  },
  {
   "cell_type": "markdown",
   "metadata": {},
   "source": [
    "### Part Two: Define a Convolutional Neural Network [Partially Graded]\n",
    "\n",
    "#### Define a Building Block of a CNN\n",
    "\n",
    "A Convolutional Neural Network is made of multiple convolutional filters/kernels in a \"block\" that comprises the tunable weight parameters between a pair of layers. We create a class `Block` to hold all the parameters and define a `forward` function for forward propagation."
   ]
  },
  {
   "cell_type": "code",
   "execution_count": 6,
   "metadata": {
    "deletable": false,
    "editable": false,
    "nbgrader": {
     "checksum": "92037a710761f933c45099a661586db4",
     "grade": false,
     "grade_id": "cell-8bff8e61e67cc7cb",
     "locked": true,
     "schema_version": 1,
     "solution": false
    }
   },
   "outputs": [],
   "source": [
    "class Block(nn.Module):\n",
    "    def __init__(self, in_channel, out_channel, kernel_size=3, stride=1):\n",
    "        super(Block, self).__init__()\n",
    "        \n",
    "        self.in_channel = in_channel\n",
    "        self.out_channel = out_channel\n",
    "        self.kernel_size = kernel_size\n",
    "        self.stride = stride\n",
    "        \n",
    "        # This block contains a convolutional layer\n",
    "        # then a batch normalization layer\n",
    "        \n",
    "        self.conv = nn.Conv2d(in_channel, out_channel, kernel_size, stride)\n",
    "        self.bn = nn.BatchNorm2d(out_channel)\n",
    "        return\n",
    "    \n",
    "    def forward(self, x):\n",
    "        # passes the input image through a convolutional layer\n",
    "        # followed by a batch normalization layer and relu transition\n",
    "        out = F.relu(self.bn(self.conv(x)))\n",
    "        return out"
   ]
  },
  {
   "cell_type": "code",
   "execution_count": 7,
   "metadata": {
    "deletable": false,
    "editable": false,
    "nbgrader": {
     "checksum": "2c9ceec9b13b1e0fb5f3bdb791670e29",
     "grade": false,
     "grade_id": "cell-a91136f959810d8a",
     "locked": true,
     "schema_version": 1,
     "solution": false
    }
   },
   "outputs": [
    {
     "name": "stdout",
     "output_type": "stream",
     "text": [
      "torch.Size([512, 10, 26, 26])\n"
     ]
    }
   ],
   "source": [
    "# Create a block that is made up of 10 filters size 3x3 and stride 1\n",
    "\n",
    "# The block takes in a image of 1 channel\n",
    "Block1 = Block(1, 10, 3, 1)\n",
    "out = Block1(X)\n",
    "\n",
    "# After passing our image through block 1\n",
    "# we get the following tensor\n",
    "print(out.shape)"
   ]
  },
  {
   "cell_type": "markdown",
   "metadata": {},
   "source": [
    "#### Build a CNN using the `Block` class [Graded]\n",
    "\n",
    "In this section, you will build a Convolutional Neural Network in **`ConvNet`** that consists of 4 CNN blocks, an average pooling layer and a fully connected layer **in this order**. We have created the first block for you. What you need to do is create the rest of the blocks based on the specification.  \n",
    "\n",
    "You can see that `self.block1` is initialized with `Block()`. Below it are the specs for the other 3 blocks.\n",
    "\n",
    "In other words, your solution should be 3 lines that initialize `self.block2`, `self.block3`, and `self.block4` where it says `# TODO`. You need to pass in the appropriate parameters to `Block(input_size, num_filters, kernel_size, stride)`. Note that the `input_size` of one layer is the `num_filters` of the previous layer.\n",
    "\n",
    "Please do not change the name of the layers or else you risk breaking the autograder code!"
   ]
  },
  {
   "cell_type": "code",
   "execution_count": 8,
   "metadata": {
    "deletable": false,
    "nbgrader": {
     "checksum": "fd45ad84db376a032cc6cd979debb1c1",
     "grade": false,
     "grade_id": "cell-convnet",
     "locked": false,
     "schema_version": 1,
     "solution": true
    }
   },
   "outputs": [],
   "source": [
    "class ConvNet(nn.Module):\n",
    "    def __init__(self):\n",
    "        super(ConvNet, self).__init__() \n",
    "        # First block takes in the image of channel 1\n",
    "        # Filter specification:\n",
    "            # Num filters=16, kernel size 3, stride 1\n",
    "        self.block1 = Block(1, 16, 3, 1)\n",
    "        \n",
    "        # TODO\n",
    "        # Second block takes in the output of the first block\n",
    "        # Filter specification:\n",
    "            # Num filters=32, kernel size 3, stride 1\n",
    "        \n",
    "        self.block2 = Block(16, 32, 3, 1)\n",
    "        \n",
    "        # TODO\n",
    "        # Third block takes in the output of the 2nd block\n",
    "        # Filter specification:\n",
    "            # Num filters=64, kernel size 3, stride 1\n",
    "        \n",
    "        self.block3 = Block(32, 64, 3, 1)\n",
    "        \n",
    "        # TODO\n",
    "        # Third block takes in the output of the 3rd block\n",
    "        # Filter specification:\n",
    "        # Num filters=128, kernel size 3, stride 1\n",
    "        \n",
    "        self.block4 = Block(64, 128, 3,1)\n",
    "        \n",
    "        # This is the average pooling layer\n",
    "        # This is applied to the output of the last convolutional layer\n",
    "        # Essentially, it averages feature maps spatially to a single number\n",
    "        # For instance, if the output of the last conv layer is of size (128, 15, 4, 4)\n",
    "        # the following layer will average the 4x4 array into a single number\n",
    "        # so the output of applying this layer would have size (128, 15, 1, 1)\n",
    "        # This operation vectorize the feature maps so that we can have a vector\n",
    "        # that can be passed into a simple linear layer for classification\n",
    "        self.avgpool = nn.AdaptiveAvgPool2d(1)\n",
    "        \n",
    "        # Create a linear layer\n",
    "        # the dataset has 10 classes\n",
    "        # the model should output 10 belief values\n",
    "        self.fc = nn.Linear(128, 10)\n",
    "        \n",
    "        # YOUR CODE HERE\n",
    "        \n",
    "        \n",
    "\n",
    "        return\n",
    "    \n",
    "    def forward(self, x):\n",
    "        batch_size = x.size(0)\n",
    "        out = self.block1(x)\n",
    "        out = self.block2(out)\n",
    "        out = self.block3(out)\n",
    "        out = self.block4(out)\n",
    "        \n",
    "        # .squeeze() operation remove unnecessary dimension\n",
    "        # i.e if X is of shape (128, 128, 1, 1)\n",
    "        # X.unsqueeze() becomes (128, 128)\n",
    "        out = self.avgpool(out).squeeze()\n",
    "        out = self.fc(out)\n",
    "        return out"
   ]
  },
  {
   "cell_type": "code",
   "execution_count": 9,
   "metadata": {
    "deletable": false,
    "editable": false,
    "nbgrader": {
     "checksum": "c34e15953494ee219ab9a882e1fcad19",
     "grade": false,
     "grade_id": "cell-24c0e993188b8dcc",
     "locked": true,
     "schema_version": 1,
     "solution": false
    }
   },
   "outputs": [],
   "source": [
    "# Create a model\n",
    "model = ConvNet()\n",
    "\n",
    "# Move the model to a cuda gpu\n",
    "# Doing this step allows up to do training on gpu\n",
    "# and gain significant speed up\n",
    "if gpu_available:\n",
    "    model = model.cuda()"
   ]
  },
  {
   "cell_type": "code",
   "execution_count": 10,
   "metadata": {
    "deletable": false,
    "editable": false,
    "nbgrader": {
     "checksum": "f207da4fa8b9081805157608b58ec292",
     "grade": false,
     "grade_id": "cell-model_selftest",
     "locked": true,
     "schema_version": 1,
     "solution": false
    }
   },
   "outputs": [
    {
     "name": "stdout",
     "output_type": "stream",
     "text": [
      "Running Test: model_test1 ... ✔ Passed!\n",
      "Running Test: model_test2 ... ✔ Passed!\n",
      "Running Test: model_test3 ... ✔ Passed!\n",
      "Running Test: model_test4 ... ✔ Passed!\n"
     ]
    }
   ],
   "source": [
    "def model_test1():\n",
    "    \n",
    "    model = ConvNet()\n",
    "    \n",
    "    if gpu_available:\n",
    "        model = model.cuda()\n",
    "    # check whether block2, 3, 4 are instances of block\n",
    "    isblock2 = isinstance(model.block2, Block)\n",
    "    isblock3 = isinstance(model.block3, Block)\n",
    "    isblock4 = isinstance(model.block3, Block)\n",
    "    return isblock2 and isblock3 and isblock4\n",
    "    \n",
    "\n",
    "def model_test2():\n",
    "    model = ConvNet()\n",
    "    \n",
    "    if gpu_available:\n",
    "        model = model.cuda()\n",
    "    # Checking the specification for block 2\n",
    "    \n",
    "    # Check input channel\n",
    "    in_channel_check = model.block2.in_channel == 16\n",
    "    \n",
    "    # Check the output channel\n",
    "    out_channel_check = model.block2.out_channel == 32\n",
    "    \n",
    "    # Check the kernel size\n",
    "    kernel_size_check = model.block2.kernel_size == 3\n",
    "    \n",
    "    # check the stride size\n",
    "    stride_check = model.block2.stride == 1\n",
    "    return in_channel_check and out_channel_check and kernel_size_check and stride_check\n",
    "\n",
    "def model_test3():\n",
    "    model = ConvNet()\n",
    "    \n",
    "    if gpu_available:\n",
    "        model = model.cuda()\n",
    "    # Checking the specification for block 3\n",
    "    \n",
    "    # Check input channel\n",
    "    in_channel_check = model.block3.in_channel == 32\n",
    "    \n",
    "    # Check the output channel\n",
    "    out_channel_check = model.block3.out_channel == 64\n",
    "    \n",
    "    # Check the kernel size\n",
    "    kernel_size_check = model.block3.kernel_size == 3\n",
    "    \n",
    "    # check the stride size\n",
    "    stride_check = model.block3.stride == 1\n",
    "    return in_channel_check and out_channel_check and kernel_size_check and stride_check\n",
    "\n",
    "def model_test4():\n",
    "    model = ConvNet()\n",
    "    \n",
    "    if gpu_available:\n",
    "        model = model.cuda()\n",
    "    # Checking the specification for block 3\n",
    "    \n",
    "    # Check input channel\n",
    "    in_channel_check = model.block4.in_channel == 64\n",
    "    \n",
    "    # Check the output channel\n",
    "    out_channel_check = model.block4.out_channel == 128\n",
    "    \n",
    "    # Check the kernel size\n",
    "    kernel_size_check = model.block4.kernel_size == 3\n",
    "    \n",
    "    # check the stride size\n",
    "    stride_check = model.block4.stride == 1\n",
    "    return in_channel_check and out_channel_check and kernel_size_check and stride_check\n",
    "\n",
    "\n",
    "runtest(model_test1, 'model_test1')\n",
    "runtest(model_test2, 'model_test2')\n",
    "runtest(model_test3, 'model_test3')\n",
    "runtest(model_test4, 'model_test4')"
   ]
  },
  {
   "cell_type": "code",
   "execution_count": 11,
   "metadata": {
    "deletable": false,
    "editable": false,
    "nbgrader": {
     "checksum": "2d54abf1443eeb1abb35bdbb2ec37cc9",
     "grade": true,
     "grade_id": "cell-model_test1",
     "locked": true,
     "points": 1,
     "schema_version": 1,
     "solution": false
    }
   },
   "outputs": [],
   "source": [
    "# Autograder Test Cell\n",
    "# model_test1\n"
   ]
  },
  {
   "cell_type": "code",
   "execution_count": 12,
   "metadata": {
    "deletable": false,
    "editable": false,
    "nbgrader": {
     "checksum": "6dc4ba1fb27fda65d1a8374aeeb405bd",
     "grade": true,
     "grade_id": "cell-model_test2",
     "locked": true,
     "points": 1,
     "schema_version": 1,
     "solution": false
    }
   },
   "outputs": [],
   "source": [
    "# Autograder Test Cell\n",
    "# model_test2\n"
   ]
  },
  {
   "cell_type": "code",
   "execution_count": 13,
   "metadata": {
    "deletable": false,
    "editable": false,
    "nbgrader": {
     "checksum": "e8ad5d55a047ee51330454909de1a0b9",
     "grade": true,
     "grade_id": "cell-model_test3",
     "locked": true,
     "points": 1,
     "schema_version": 1,
     "solution": false
    }
   },
   "outputs": [],
   "source": [
    "# Autograder Test Cell\n",
    "# model_test3\n"
   ]
  },
  {
   "cell_type": "code",
   "execution_count": 14,
   "metadata": {
    "deletable": false,
    "editable": false,
    "nbgrader": {
     "checksum": "653203e6d52fdf1561efb772b9fbeace",
     "grade": true,
     "grade_id": "cell-model_test4",
     "locked": true,
     "points": 1,
     "schema_version": 1,
     "solution": false
    }
   },
   "outputs": [],
   "source": [
    "# Autograder Test Cell\n",
    "# model_test4\n"
   ]
  },
  {
   "cell_type": "markdown",
   "metadata": {},
   "source": [
    "### Part Three: Define a Loss Function and Optimizer [Graded] \n",
    "\n",
    "You are going to define the loss function and the optimizer. You should familiarize yourself with looking up PyTorch documentation.\n",
    "\n",
    "#### Loss function [Graded]\n",
    "The loss function should be the **cross entropy loss**. You can also implement the loss function yourself but we strongly suggest you use PyTorch's implementation -- it should be one short call to a [library](https://pytorch.org/docs/stable/nn.html#loss-functions) loss function."
   ]
  },
  {
   "cell_type": "code",
   "execution_count": 16,
   "metadata": {
    "deletable": false,
    "nbgrader": {
     "checksum": "d25c448f46bd8fa61ae51a093de47c89",
     "grade": false,
     "grade_id": "cell-loss_fn",
     "locked": false,
     "schema_version": 1,
     "solution": true
    }
   },
   "outputs": [],
   "source": [
    "#TODO: Define the loss function\n",
    "loss_fn = None\n",
    "\n",
    "# YOUR CODE HERE\n",
    "loss_fn = nn.CrossEntropyLoss()\n",
    "#raise NotImplementedError()"
   ]
  },
  {
   "cell_type": "code",
   "execution_count": 17,
   "metadata": {
    "deletable": false,
    "editable": false,
    "nbgrader": {
     "checksum": "26233408a42bd8aa2c698af621d5c188",
     "grade": false,
     "grade_id": "cell-loss_fn_selftest",
     "locked": true,
     "schema_version": 1,
     "solution": false
    }
   },
   "outputs": [
    {
     "name": "stdout",
     "output_type": "stream",
     "text": [
      "Running Test: loss_fn_test1 ... ✔ Passed!\n",
      "Running Test: loss_fn_test2 ... ✔ Passed!\n",
      "Running Test: loss_fn_test3 ... ✔ Passed!\n"
     ]
    }
   ],
   "source": [
    "def loss_fn_test1():\n",
    "    num_classes = 10 # Suppose we have 10 classes \n",
    "    num_examples = 5\n",
    "    logits = torch.ones((num_examples, num_classes)) # Simulate model belief\n",
    "    y=torch.zeros(num_examples).long();\n",
    "    loss = loss_fn(logits, y) # calculate the loss\n",
    "    \n",
    "    # Check whether the loss is a scalar\n",
    "    return loss.size() == torch.Size([])\n",
    "\n",
    "def loss_fn_test2():\n",
    "    num_classes = 10 # Suppose we have 10 classes \n",
    "    \n",
    "    # simulate model belief\n",
    "    # in this case, the model believes that each class is equally likely\n",
    "    logits = torch.ones((1, num_classes)) \n",
    "    y=torch.zeros(1).long();\n",
    "    loss = loss_fn(logits,y) # calculate the loss\n",
    "    \n",
    "    # if the model has equal belief for each class, namely, P(y|x) is uniform\n",
    "    # the negative loglikelihood should be -log(1 /num_classes) = log(num_classes)\n",
    "    return (loss.item() == torch.log(torch.Tensor([num_classes])).item())\n",
    "\n",
    "def loss_fn_test3():\n",
    "    \n",
    "    num_classes = 10 # Suppose we have 10 classes\n",
    "    num_examples = 5 \n",
    "    \n",
    "    # simulate model belief\n",
    "    # in this case, the model believes that each class is equally likely\n",
    "    logits = torch.rand((num_examples, num_classes)) \n",
    "    y=torch.zeros(num_examples).long();\n",
    "    loss = loss_fn(logits, y)\n",
    "    loss_grader = loss_fn_grader(logits, torch.zeros(num_examples).long())\n",
    "    \n",
    "    # Check whether your loss and our loss is almost the same\n",
    "    return (torch.abs(loss - loss_grader)).item() < 1e-5\n",
    "\n",
    "\n",
    "runtest(loss_fn_test1, 'loss_fn_test1')\n",
    "runtest(loss_fn_test2, 'loss_fn_test2')\n",
    "runtest(loss_fn_test3, 'loss_fn_test3')"
   ]
  },
  {
   "cell_type": "code",
   "execution_count": 18,
   "metadata": {
    "deletable": false,
    "editable": false,
    "nbgrader": {
     "checksum": "49b9cebff59c232fa395fe5e9abe779f",
     "grade": true,
     "grade_id": "cell-loss_fn_test1",
     "locked": true,
     "points": 1,
     "schema_version": 1,
     "solution": false
    }
   },
   "outputs": [],
   "source": [
    "# Autograder Test Cell\n",
    "# loss_fn_test1\n",
    "\n"
   ]
  },
  {
   "cell_type": "code",
   "execution_count": 19,
   "metadata": {
    "deletable": false,
    "editable": false,
    "nbgrader": {
     "checksum": "416f30f14d02def2631003339e884815",
     "grade": true,
     "grade_id": "cell-loss_fn_test2",
     "locked": true,
     "points": 1,
     "schema_version": 1,
     "solution": false
    }
   },
   "outputs": [],
   "source": [
    "# Autograder Test Cell\n",
    "# loss_fn_test2\n"
   ]
  },
  {
   "cell_type": "code",
   "execution_count": 20,
   "metadata": {
    "deletable": false,
    "editable": false,
    "nbgrader": {
     "checksum": "71e25e5cfa751c2c612e27cfb4df2857",
     "grade": true,
     "grade_id": "cell-loss_fn_test3",
     "locked": true,
     "points": 1,
     "schema_version": 1,
     "solution": false
    }
   },
   "outputs": [],
   "source": [
    "# Autograder Test Cell\n",
    "# loss_fn_test3\n",
    "\n"
   ]
  },
  {
   "cell_type": "markdown",
   "metadata": {},
   "source": [
    "#### Optimizer [Graded]\n",
    "I the next cell, you will define an **SGD optimizer**. Again, you should just call one library function from [`torch.optim`](https://pytorch.org/docs/stable/optim.html). In addition to passing in the model parameters `model.parameters()`, please set `lr=0.1`."
   ]
  },
  {
   "cell_type": "code",
   "execution_count": 21,
   "metadata": {
    "deletable": false,
    "nbgrader": {
     "checksum": "ab33d304a46c9b7f2f0739c24a3848cd",
     "grade": false,
     "grade_id": "cell-optimizer",
     "locked": false,
     "schema_version": 1,
     "solution": true
    }
   },
   "outputs": [],
   "source": [
    "#TODO: Define the optimizer\n",
    "optimizer = None\n",
    "\n",
    "# YOUR CODE HERE\n",
    "optimizer = torch.optim.SGD(model.parameters(), lr=0.1)\n",
    "#raise NotImplementedError()"
   ]
  },
  {
   "cell_type": "code",
   "execution_count": 22,
   "metadata": {
    "deletable": false,
    "editable": false,
    "nbgrader": {
     "checksum": "a2b0517d8954582b246509339a3fede5",
     "grade": false,
     "grade_id": "cell-optimizer-selftest",
     "locked": true,
     "schema_version": 1,
     "solution": false
    }
   },
   "outputs": [
    {
     "name": "stdout",
     "output_type": "stream",
     "text": [
      "Running Test: optimizer_test1 ... ✔ Passed!\n"
     ]
    }
   ],
   "source": [
    "def optimizer_test1():\n",
    "    return isinstance(optimizer, torch.optim.SGD)\n",
    "\n",
    "runtest(optimizer_test1, 'optimizer_test1')"
   ]
  },
  {
   "cell_type": "code",
   "execution_count": 23,
   "metadata": {
    "deletable": false,
    "editable": false,
    "nbgrader": {
     "checksum": "494d7c388f945407242664233010a4d0",
     "grade": true,
     "grade_id": "cell-optimizer-test1",
     "locked": true,
     "points": 1,
     "schema_version": 1,
     "solution": false
    }
   },
   "outputs": [],
   "source": [
    "# Autograder Test Cell\n",
    "# optimizer_test1\n",
    "\n"
   ]
  },
  {
   "cell_type": "markdown",
   "metadata": {},
   "source": [
    "### Part Four: Train the Network [Graded]\n",
    "\n",
    "In this section, you are going to implement the **`train`** function. Please see the `#TODO`s in the code stub for specifications. Your solution should be one line for each todo (that is, 3 lines total). \n",
    "\n",
    "- `logits` is the output of a forward pass - to obtain them call `model` on the current mini-batch `X`.\n",
    "- `loss` should be calculated with the loss function `loss_fn` (HINT: look at the tests above to see how the loss function is called).\n",
    "- Finally, you need to back propagate by calling `loss.backward()` on the loss function."
   ]
  },
  {
   "cell_type": "code",
   "execution_count": 24,
   "metadata": {
    "deletable": false,
    "nbgrader": {
     "checksum": "837f5abe468f53923073dd58135621a4",
     "grade": false,
     "grade_id": "cell-train",
     "locked": false,
     "schema_version": 1,
     "solution": true
    }
   },
   "outputs": [],
   "source": [
    "def train(model, optimizer, loss_fn, trainloader):\n",
    "    \"\"\"\n",
    "    Trains the model using the optimizer, loss function, and training data in trainloader.\n",
    "    \n",
    "    Input:\n",
    "        model: ConvNet model\n",
    "        optimizer: optimizer for the model\n",
    "        loss_fn: loss function \n",
    "        trainloader: the dataloader\n",
    "    \n",
    "    Output:\n",
    "        running_loss: the average loss of the network\n",
    "    \"\"\"\n",
    "    \n",
    "    # Set the model into train mode\n",
    "    model.train()\n",
    "    \n",
    "    # Create a variable to keep track of the running loss\n",
    "    running_loss = 0.0\n",
    "    \n",
    "    # iterate through trainloader\n",
    "    # each iterate, you will get a batch of images X, and labels, y\n",
    "    for i, (X, y) in enumerate(trainloader):\n",
    "        \n",
    "        if gpu_available:\n",
    "            # Move the data to cuda gpu to accelerate training\n",
    "            X, y = X.cuda(), y.cuda()\n",
    "        \n",
    "        # zero the parameter gradient\n",
    "        optimizer.zero_grad()\n",
    "        \n",
    "        # TODO: Do a forward pass the get the logits\n",
    "        logits = model(X)\n",
    "        \n",
    "        # TODO: Evaluate the loss\n",
    "        loss = loss_fn(logits, y)\n",
    "        \n",
    "        # TODO: Do a backward pass by calling \n",
    "        # .backward()\n",
    "        \n",
    "        # YOUR CODE HERE\n",
    "        #raise NotImplementedError()\n",
    "        loss.backward()\n",
    "        \n",
    "        # update the parameters\n",
    "        optimizer.step()\n",
    "        \n",
    "        # update the loss\n",
    "        running_loss += loss.item()\n",
    "    return running_loss / len(trainloader)"
   ]
  },
  {
   "cell_type": "code",
   "execution_count": 25,
   "metadata": {
    "deletable": false,
    "editable": false,
    "nbgrader": {
     "checksum": "53c1b70ad7bb8225e1fb37e1d2c51513",
     "grade": false,
     "grade_id": "cell-train-selftest",
     "locked": true,
     "schema_version": 1,
     "solution": false
    }
   },
   "outputs": [
    {
     "name": "stdout",
     "output_type": "stream",
     "text": [
      "Running Test: train_test1 ... ✔ Passed!\n"
     ]
    }
   ],
   "source": [
    "def train_test1():\n",
    "    from copy import deepcopy\n",
    "    \n",
    "    \n",
    "    model = ConvNet()\n",
    "    if gpu_available:\n",
    "        model = model.cuda()\n",
    "    model2 = deepcopy(model)\n",
    "    \n",
    "    optimizer = create_optimizer(model)\n",
    "    optimizer2 = create_optimizer(model2)\n",
    "    \n",
    "    # sample one batch of training examples\n",
    "    X, y = iter(trainloader).next()\n",
    "    \n",
    "    # Create a dataset using the small batch\n",
    "    small_set = torch.utils.data.TensorDataset(X, y)\n",
    "    \n",
    "    # create a dataloader for the small_set\n",
    "    loader = torch.utils.data.DataLoader(small_set, batch_size=128)\n",
    "    \n",
    "    # run your train function twice\n",
    "    # Essentially update the model twice\n",
    "    loss = train(model, optimizer, loss_fn, loader)\n",
    "    loss2 = train(model, optimizer, loss_fn, loader)\n",
    "    \n",
    "    # run our train function twice\n",
    "    # update the model twice\n",
    "    loss_grader = train_grader(model2, optimizer2, loss_fn, loader)\n",
    "    loss_grader_2 = train_grader(model2, optimizer2, loss_fn, loader)\n",
    "    \n",
    "    # your losses and our losses should be too different\n",
    "    return ((loss - loss_grader)**2 + (loss2 - loss_grader_2)**2) < 1e-5\n",
    "\n",
    "runtest(train_test1, 'train_test1')"
   ]
  },
  {
   "cell_type": "code",
   "execution_count": 26,
   "metadata": {
    "deletable": false,
    "editable": false,
    "nbgrader": {
     "checksum": "b233ab0fa28c679cbaa9acdf512302d2",
     "grade": true,
     "grade_id": "cell-train_test1",
     "locked": true,
     "points": 1,
     "schema_version": 1,
     "solution": false
    }
   },
   "outputs": [],
   "source": [
    "# Autograder Test Cell\n",
    "# train_test1\n",
    "\n"
   ]
  },
  {
   "cell_type": "code",
   "execution_count": 27,
   "metadata": {},
   "outputs": [
    {
     "data": {
      "application/vnd.jupyter.widget-view+json": {
       "model_id": "ccc643194c97433ca485eafcf05170d7",
       "version_major": 2,
       "version_minor": 0
      },
      "text/plain": [
       "HBox(children=(IntProgress(value=0, max=10), HTML(value='')))"
      ]
     },
     "metadata": {},
     "output_type": "display_data"
    },
    {
     "name": "stdout",
     "output_type": "stream",
     "text": [
      "Running Loss for Epoch [1/ 10]: 1.6433\n",
      "Running Loss for Epoch [2/ 10]: 0.8847\n",
      "Running Loss for Epoch [3/ 10]: 0.4814\n",
      "Running Loss for Epoch [4/ 10]: 0.2966\n",
      "Running Loss for Epoch [5/ 10]: 0.2161\n",
      "Running Loss for Epoch [6/ 10]: 0.1741\n",
      "Running Loss for Epoch [7/ 10]: 0.1481\n",
      "Running Loss for Epoch [8/ 10]: 0.1293\n",
      "Running Loss for Epoch [9/ 10]: 0.1161\n",
      "Running Loss for Epoch [10/ 10]: 0.1054\n",
      "\n"
     ]
    }
   ],
   "source": [
    "# The following code will train the model\n",
    "# Running this cell should take about three minutes. A progress ber will display speed and duration of training.\n",
    "\n",
    "num_epochs = 10\n",
    "\n",
    "for epoch in tqdm(range(num_epochs)):\n",
    "    running_loss = train(model, optimizer, loss_fn, trainloader)\n",
    "    print('Running Loss for Epoch [{}/ {}]: {:.4f}'.format(epoch + 1, num_epochs, running_loss))"
   ]
  },
  {
   "cell_type": "markdown",
   "metadata": {},
   "source": [
    "### Part Five: Test the network on the test data [Graded]\n",
    "\n",
    "In this section, you will implement **`pred`** that takes in the output of the forward pass (the `logits`) and outputs its prediction. `logits` is a matrix of shape `(n, C)` where `C` is the number of labels (10 for MNIST -- number of digits). The prediction should be the `argmax` along the second axis (`dim=1`)."
   ]
  },
  {
   "cell_type": "code",
   "execution_count": 28,
   "metadata": {
    "deletable": false,
    "nbgrader": {
     "checksum": "f5e79efebaf560705d69a367dd2622d1",
     "grade": false,
     "grade_id": "cell-pred",
     "locked": false,
     "schema_version": 1,
     "solution": true
    }
   },
   "outputs": [],
   "source": [
    "def pred(logits):\n",
    "    \"\"\"\n",
    "    Calculates the predictions of the ConvNet using the logits.\n",
    "    \n",
    "    Input:\n",
    "        logits: nxC output matrix of the network. n is the number of data points, C is the number of labels.\n",
    "    \n",
    "    Output:\n",
    "        prediction: n-dimensional vector of predictions\n",
    "    \"\"\"\n",
    "\n",
    "    # TODO Calculate the prediction based using torch.argmax\n",
    "    # YOUR CODE HERE\n",
    "    prediction = torch.argmax(logits, dim=1)\n",
    "    return prediction"
   ]
  },
  {
   "cell_type": "code",
   "execution_count": 29,
   "metadata": {
    "deletable": false,
    "editable": false,
    "nbgrader": {
     "checksum": "8dc9c8c345f39cc92b8338c74bd9076b",
     "grade": false,
     "grade_id": "cell-pred-selftest",
     "locked": true,
     "schema_version": 1,
     "solution": false
    }
   },
   "outputs": [
    {
     "name": "stdout",
     "output_type": "stream",
     "text": [
      "Running Test: pred_test1 ... ✔ Passed!\n"
     ]
    }
   ],
   "source": [
    "def pred_test1():\n",
    "    \n",
    "    # Generate some beliefs\n",
    "    logits = torch.Tensor([[0, 1], [2, -1]])\n",
    "    prediction = pred(logits)\n",
    "    \n",
    "    # the expected output should be [1, 0]\n",
    "    expected_output = torch.LongTensor([1, 0])\n",
    "    \n",
    "    return torch.equal(prediction, expected_output)\n",
    "\n",
    "runtest(pred_test1, 'pred_test1')"
   ]
  },
  {
   "cell_type": "code",
   "execution_count": null,
   "metadata": {
    "deletable": false,
    "editable": false,
    "nbgrader": {
     "checksum": "d7b69d6e34ec7119e70204dea4010e64",
     "grade": true,
     "grade_id": "cell-pred_test1",
     "locked": true,
     "points": 1,
     "schema_version": 1,
     "solution": false
    }
   },
   "outputs": [],
   "source": [
    "# Autograder Test Cell\n",
    "# pred_test1\n"
   ]
  },
  {
   "cell_type": "markdown",
   "metadata": {},
   "source": [
    "We trained the model above and now we can evaluate it using your `pred` function."
   ]
  },
  {
   "cell_type": "code",
   "execution_count": 30,
   "metadata": {},
   "outputs": [
    {
     "name": "stdout",
     "output_type": "stream",
     "text": [
      "Accuracy of the model: 97.29%\n"
     ]
    }
   ],
   "source": [
    "# the following code will use your pred function and evaluate the whole test set and print your model's accuracy\n",
    "\n",
    "total = 0.0\n",
    "correct = 0.0\n",
    "model.eval()\n",
    "with torch.no_grad():\n",
    "    for X, y in testloader:\n",
    "        if gpu_available:\n",
    "            X, y = X.cuda(), y.cuda()\n",
    "        logits = model(X)\n",
    "        \n",
    "        prediction = pred(logits) \n",
    "        total += X.size(0)\n",
    "        correct += (prediction == y).sum().item()\n",
    "\n",
    "print('Accuracy of the model: {:.4}%'.format(correct / total * 100))"
   ]
  },
  {
   "cell_type": "code",
   "execution_count": 31,
   "metadata": {},
   "outputs": [
    {
     "name": "stdout",
     "output_type": "stream",
     "text": [
      "Prediction:  [0, 6, 0, 9, 1]\n"
     ]
    },
    {
     "data": {
      "image/png": "[encoded data removed]",
      "text/plain": [
       "<Figure size 432x288 with 1 Axes>"
      ]
     },
     "metadata": {
      "needs_background": "light"
     },
     "output_type": "display_data"
    }
   ],
   "source": [
    "# Visualize some of the test images \n",
    "# and see their prediction\n",
    "\n",
    "test_iterator = iter(testloader)\n",
    "X_test, y_test = test_iterator.next()\n",
    "X_test, y_test = X_test[:5], y_test[:5]\n",
    "visualize_data(X_test)\n",
    "model.eval()\n",
    "with torch.no_grad():\n",
    "    if gpu_available:\n",
    "        X_test = X_test.cuda()\n",
    "    logits = model(X_test)\n",
    "    prediction = pred(logits)\n",
    "print(\"Prediction: \", prediction.tolist())"
   ]
  },
  {
   "cell_type": "markdown",
   "metadata": {},
   "source": [
    "### Tensorflow approach\n",
    "\n",
    "We can train the same network on MNIST data in Tensorflow as well."
   ]
  },
  {
   "cell_type": "code",
   "execution_count": 32,
   "metadata": {},
   "outputs": [],
   "source": [
    "import tensorflow as tf\n",
    "import math"
   ]
  },
  {
   "cell_type": "code",
   "execution_count": 34,
   "metadata": {},
   "outputs": [],
   "source": [
    "def plot_imgs(images, labels=None):\n",
    "    subplots_x = int(math.ceil(len(images) / 5))\n",
    "    plt.figure(figsize=(10,2*subplots_x))\n",
    "    for i in range(min(len(images), subplots_x*5)):\n",
    "        plt.subplot(subplots_x,5,i+1)\n",
    "        plt.xticks([])\n",
    "        plt.yticks([])\n",
    "        plt.grid(False)\n",
    "        plt.imshow(images[i], cmap=plt.cm.binary)\n",
    "        if labels is not None:\n",
    "            plt.xlabel(labels[i])\n",
    "    plt.show()"
   ]
  },
  {
   "cell_type": "code",
   "execution_count": 35,
   "metadata": {},
   "outputs": [
    {
     "name": "stdout",
     "output_type": "stream",
     "text": [
      "Downloading data from https://storage.googleapis.com/tensorflow/tf-keras-datasets/mnist.npz\n",
      "11493376/11490434 [==============================] - 0s 0us/step\n",
      "11501568/11490434 [==============================] - 0s 0us/step\n"
     ]
    },
    {
     "data": {
      "image/png": "[encoded data removed]",
      "text/plain": [
       "<Figure size 720x144 with 5 Axes>"
      ]
     },
     "metadata": {},
     "output_type": "display_data"
    }
   ],
   "source": [
    "mnist = tf.keras.datasets.mnist\n",
    "(x_train, y_train),(x_test, y_test) = mnist.load_data()\n",
    "plot_imgs(x_train[:5], y_train[:5])"
   ]
  },
  {
   "cell_type": "code",
   "execution_count": 36,
   "metadata": {},
   "outputs": [],
   "source": [
    "# Tensorflow downloads the images raw. We must normalize pixel values to be between 0 and 1\n",
    "x_train, x_test = x_train / 255.0, x_test / 255.0\n",
    "\n",
    "# Converting datasets of shape (num_points, 28, 28) to (num_points, 28, 28, 1)\n",
    "x_train, x_test = x_train[..., np.newaxis], x_test[..., np.newaxis]"
   ]
  },
  {
   "cell_type": "code",
   "execution_count": 37,
   "metadata": {},
   "outputs": [
    {
     "name": "stdout",
     "output_type": "stream",
     "text": [
      "Model: \"sequential\"\n",
      "_________________________________________________________________\n",
      "Layer (type)                 Output Shape              Param #   \n",
      "=================================================================\n",
      "conv2d (Conv2D)              (None, 26, 26, 16)        160       \n",
      "_________________________________________________________________\n",
      "batch_normalization (BatchNo (None, 26, 26, 16)        64        \n",
      "_________________________________________________________________\n",
      "re_lu (ReLU)                 (None, 26, 26, 16)        0         \n",
      "_________________________________________________________________\n",
      "conv2d_1 (Conv2D)            (None, 24, 24, 32)        4640      \n",
      "_________________________________________________________________\n",
      "batch_normalization_1 (Batch (None, 24, 24, 32)        128       \n",
      "_________________________________________________________________\n",
      "re_lu_1 (ReLU)               (None, 24, 24, 32)        0         \n",
      "_________________________________________________________________\n",
      "conv2d_2 (Conv2D)            (None, 22, 22, 64)        18496     \n",
      "_________________________________________________________________\n",
      "batch_normalization_2 (Batch (None, 22, 22, 64)        256       \n",
      "_________________________________________________________________\n",
      "re_lu_2 (ReLU)               (None, 22, 22, 64)        0         \n",
      "_________________________________________________________________\n",
      "conv2d_3 (Conv2D)            (None, 20, 20, 128)       73856     \n",
      "_________________________________________________________________\n",
      "batch_normalization_3 (Batch (None, 20, 20, 128)       512       \n",
      "_________________________________________________________________\n",
      "re_lu_3 (ReLU)               (None, 20, 20, 128)       0         \n",
      "_________________________________________________________________\n",
      "global_average_pooling2d (Gl (None, 128)               0         \n",
      "_________________________________________________________________\n",
      "dense (Dense)                (None, 10)                1290      \n",
      "=================================================================\n",
      "Total params: 99,402\n",
      "Trainable params: 98,922\n",
      "Non-trainable params: 480\n",
      "_________________________________________________________________\n",
      "Epoch 1/10\n",
      "1875/1875 [==============================] - 167s 89ms/step - loss: 0.3451 - accuracy: 0.9153\n",
      "Epoch 2/10\n",
      "1875/1875 [==============================] - 167s 89ms/step - loss: 0.1003 - accuracy: 0.9720\n",
      "Epoch 3/10\n",
      "1875/1875 [==============================] - 167s 89ms/step - loss: 0.0748 - accuracy: 0.9789\n",
      "Epoch 4/10\n",
      "1875/1875 [==============================] - 167s 89ms/step - loss: 0.0625 - accuracy: 0.9815\n",
      "Epoch 5/10\n",
      "1875/1875 [==============================] - 167s 89ms/step - loss: 0.0557 - accuracy: 0.9836\n",
      "Epoch 6/10\n",
      "1875/1875 [==============================] - 167s 89ms/step - loss: 0.0515 - accuracy: 0.9848\n",
      "Epoch 7/10\n",
      "1875/1875 [==============================] - 167s 89ms/step - loss: 0.0470 - accuracy: 0.9865\n",
      "Epoch 8/10\n",
      "1875/1875 [==============================] - 177s 94ms/step - loss: 0.0433 - accuracy: 0.9872\n",
      "Epoch 9/10\n",
      "1875/1875 [==============================] - 177s 94ms/step - loss: 0.0398 - accuracy: 0.9880\n",
      "Epoch 10/10\n",
      "1875/1875 [==============================] - 173s 92ms/step - loss: 0.0369 - accuracy: 0.9891\n"
     ]
    },
    {
     "data": {
      "text/plain": [
       "<keras.callbacks.History at 0x7f83c424efd0>"
      ]
     },
     "execution_count": 37,
     "metadata": {},
     "output_type": "execute_result"
    }
   ],
   "source": [
    "def block_tf(filters, kernel_size, stride):\n",
    "    return [\n",
    "        tf.keras.layers.Conv2D(filters, kernel_size, strides=(stride, stride), activation=None),\n",
    "        tf.keras.layers.BatchNormalization(),\n",
    "        tf.keras.layers.ReLU()\n",
    "    ]\n",
    "\n",
    "## Define the network\n",
    "model = tf.keras.models.Sequential([tf.keras.Input((28, 28, 1))] \\\n",
    "    + block_tf(16, 3, 1) \\\n",
    "    + block_tf(32, 3, 1) \\\n",
    "    + block_tf(64, 3, 1) \\\n",
    "    + block_tf(128, 3, 1) + [\n",
    "    tf.keras.layers.GlobalAveragePooling2D(),\n",
    "    tf.keras.layers.Dense(10, activation=None)\n",
    "])\n",
    "\n",
    "model.summary()\n",
    "\n",
    "## Define the loss function and optimizer\n",
    "loss_fn = tf.keras.losses.SparseCategoricalCrossentropy(from_logits=True)\n",
    "optimizer = tf.keras.optimizers.SGD(learning_rate=0.1)\n",
    "\n",
    "model.compile(optimizer=optimizer, loss=loss_fn, metrics=['accuracy'])\n",
    "model.fit(x_train, y_train, epochs=10)"
   ]
  },
  {
   "cell_type": "code",
   "execution_count": 38,
   "metadata": {},
   "outputs": [
    {
     "name": "stdout",
     "output_type": "stream",
     "text": [
      "Accuracy of the model: 98.3300%\n",
      "Predictions on first 5 test images:\n"
     ]
    },
    {
     "data": {
      "image/png": "[encoded data removed]",
      "text/plain": [
       "<Figure size 720x144 with 5 Axes>"
      ]
     },
     "metadata": {},
     "output_type": "display_data"
    }
   ],
   "source": [
    "## Evaluate the network\n",
    "logits = model(x_test)\n",
    "predictions = tf.argmax(logits, axis=1)\n",
    "print('Accuracy of the model: {:.4f}%'.format(tf.reduce_mean(tf.cast(predictions == y_test, tf.float32)).numpy() * 100))\n",
    "\n",
    "print('Predictions on first 5 test images:')\n",
    "plot_imgs(np.squeeze(x_test * 255, axis=-1)[:5], predictions.numpy()[:5])"
   ]
  },
  {
   "cell_type": "markdown",
   "metadata": {},
   "source": [
    "#### Visualizing activations using Grad-CAM\n",
    "\n",
    "With the [Grad-CAM algorithm](https://keras.io/examples/vision/grad_cam/), we can also visualize the pixels that \"trigger\" activations in the convolutional layers of the network. Here's an example where the algorithm returns a heatmap of activations in the last convolutional layer triggered by the image. We superimpose the heatmap on the image, but they might not align together exactly. \"Hot\" (yellow-red) regions in the heatmap indicate the pixels that triggered high magnitude activations, whereas \"cold\" (dark blue) regions indicate the pixels that did not significantly trigger activations.\n",
    "\n",
    "Note: the heatmap might be shifted by a few pixels.\n",
    "\n",
    "Play around with different images and check out the activated regions. Do you think the network is triggered by regions of images that we, as humans, consider the defining features for the corresponding classes? (For example, is the network triggered by the circle of the 0 image?)"
   ]
  },
  {
   "cell_type": "code",
   "execution_count": 39,
   "metadata": {},
   "outputs": [
    {
     "data": {
      "image/png": "[encoded data removed]",
      "text/plain": [
       "<Figure size 432x288 with 1 Axes>"
      ]
     },
     "metadata": {},
     "output_type": "display_data"
    }
   ],
   "source": [
    "img_idx =17\n",
    "\n",
    "img_array = x_test[img_idx][np.newaxis, ...]\n",
    "\n",
    "logits = model(img_array)\n",
    "predictions = tf.argmax(logits, axis=1)\n",
    "\n",
    "last_conv_layer_name = [layer.name for layer in model.layers if isinstance(layer, tf.keras.layers.Conv2D)][-1]\n",
    "heatmap = make_gradcam_heatmap(img_array, model, last_conv_layer_name)\n",
    "display_gradcam(np.uint(255 * img_array)[0], heatmap, prediction=int(predictions.numpy()[0]))"
   ]
  }
 ],
 "metadata": {
  "kernelspec": {
   "display_name": "Python 3",
   "language": "python",
   "name": "python3"
  },
  "language_info": {
   "codemirror_mode": {
    "name": "ipython",
    "version": 3
   },
   "file_extension": ".py",
   "mimetype": "text/x-python",
   "name": "python",
   "nbconvert_exporter": "python",
   "pygments_lexer": "ipython3",
   "version": "3.6.8"
  }
 },
 "nbformat": 4,
 "nbformat_minor": 4
}
